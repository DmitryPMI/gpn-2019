{
 "cells": [
  {
   "cell_type": "code",
   "execution_count": 76,
   "metadata": {},
   "outputs": [],
   "source": [
    "import pandas as pd\n",
    "import numpy as np\n",
    "\n",
    "import matplotlib.pyplot as plt\n",
    "import matplotlib.gridspec as gridspec\n",
    "%matplotlib inline\n",
    "\n",
    "from scipy import stats\n",
    "from itertools import product\n",
    "import datetime\n",
    "from dateutil.relativedelta import relativedelta\n",
    "import statsmodels.api as sm\n",
    "\n",
    "import seaborn as sns\n",
    "import xgboost as xgb\n",
    "from xgboost import plot_importance, plot_tree\n",
    "import warnings; warnings.simplefilter('ignore')\n",
    "from sklearn.metrics import mean_squared_error, mean_absolute_error\n",
    "\n",
    "plt.rcParams[\"figure.figsize\"] = (7,4)"
   ]
  },
  {
   "cell_type": "markdown",
   "metadata": {},
   "source": [
    "## <center> Прогнозирование с xgboost"
   ]
  },
  {
   "cell_type": "markdown",
   "metadata": {},
   "source": [
    "### Подготовка временного ряда и формирование признаков"
   ]
  },
  {
   "cell_type": "code",
   "execution_count": 36,
   "metadata": {},
   "outputs": [],
   "source": [
    "data_customer = pd.read_csv(\"customers.tsv\", sep=\"\\t\")\n",
    "data_sales = pd.read_csv(\"sales.tsv\", sep=\"\\t\")"
   ]
  },
  {
   "cell_type": "code",
   "execution_count": 38,
   "metadata": {},
   "outputs": [],
   "source": [
    "data_sales[\"day\"] = 1;\n",
    "data_sales[\"date\"] = pd.to_datetime(data_sales[[\"year\", \"month\", \"day\"]]);\n",
    "data_customer[\"day\"] = 1;\n",
    "data_customer[\"date\"] = pd.to_datetime(data_customer[[\"year\", \"month\", \"day\"]]);"
   ]
  },
  {
   "cell_type": "code",
   "execution_count": 50,
   "metadata": {},
   "outputs": [
    {
     "data": {
      "text/html": [
       "<div>\n",
       "<style scoped>\n",
       "    .dataframe tbody tr th:only-of-type {\n",
       "        vertical-align: middle;\n",
       "    }\n",
       "\n",
       "    .dataframe tbody tr th {\n",
       "        vertical-align: top;\n",
       "    }\n",
       "\n",
       "    .dataframe thead th {\n",
       "        text-align: right;\n",
       "    }\n",
       "</style>\n",
       "<table border=\"1\" class=\"dataframe\">\n",
       "  <thead>\n",
       "    <tr style=\"text-align: right;\">\n",
       "      <th></th>\n",
       "      <th>month</th>\n",
       "      <th>day</th>\n",
       "      <th>year</th>\n",
       "      <th>volume</th>\n",
       "      <th>price</th>\n",
       "      <th>demand</th>\n",
       "    </tr>\n",
       "    <tr>\n",
       "      <th>date</th>\n",
       "      <th></th>\n",
       "      <th></th>\n",
       "      <th></th>\n",
       "      <th></th>\n",
       "      <th></th>\n",
       "      <th></th>\n",
       "    </tr>\n",
       "  </thead>\n",
       "  <tbody>\n",
       "    <tr>\n",
       "      <th>2017-01-01</th>\n",
       "      <td>1</td>\n",
       "      <td>1</td>\n",
       "      <td>2017</td>\n",
       "      <td>8028.0</td>\n",
       "      <td>1.221336</td>\n",
       "      <td>54396.0</td>\n",
       "    </tr>\n",
       "    <tr>\n",
       "      <th>2017-02-01</th>\n",
       "      <td>2</td>\n",
       "      <td>1</td>\n",
       "      <td>2017</td>\n",
       "      <td>9714.0</td>\n",
       "      <td>1.223776</td>\n",
       "      <td>54299.0</td>\n",
       "    </tr>\n",
       "    <tr>\n",
       "      <th>2017-03-01</th>\n",
       "      <td>3</td>\n",
       "      <td>1</td>\n",
       "      <td>2017</td>\n",
       "      <td>10614.0</td>\n",
       "      <td>1.228686</td>\n",
       "      <td>65163.0</td>\n",
       "    </tr>\n",
       "    <tr>\n",
       "      <th>2017-04-01</th>\n",
       "      <td>4</td>\n",
       "      <td>1</td>\n",
       "      <td>2017</td>\n",
       "      <td>11646.0</td>\n",
       "      <td>1.240506</td>\n",
       "      <td>73088.0</td>\n",
       "    </tr>\n",
       "    <tr>\n",
       "      <th>2017-05-01</th>\n",
       "      <td>5</td>\n",
       "      <td>1</td>\n",
       "      <td>2017</td>\n",
       "      <td>8700.0</td>\n",
       "      <td>1.268904</td>\n",
       "      <td>76452.0</td>\n",
       "    </tr>\n",
       "  </tbody>\n",
       "</table>\n",
       "</div>"
      ],
      "text/plain": [
       "            month  day  year   volume     price   demand\n",
       "date                                                    \n",
       "2017-01-01      1    1  2017   8028.0  1.221336  54396.0\n",
       "2017-02-01      2    1  2017   9714.0  1.223776  54299.0\n",
       "2017-03-01      3    1  2017  10614.0  1.228686  65163.0\n",
       "2017-04-01      4    1  2017  11646.0  1.240506  73088.0\n",
       "2017-05-01      5    1  2017   8700.0  1.268904  76452.0"
      ]
     },
     "execution_count": 50,
     "metadata": {},
     "output_type": "execute_result"
    }
   ],
   "source": [
    "data_customer_ac = data_customer[data_customer[\"ira\"] == \"AC\"][[\"date\", \"amount_of_customers\"]].groupby(\"date\").sum()\n",
    "data_15_ac = data_sales[(data_sales[\"sku_id\"] ==  \"sku #15\") & (data_sales[\"ira\"] ==  \"AC\")][[\"date\", \"month\", \"day\", \"year\", \"volume\", \"price\"]]\n",
    "data_15_ac[\"demand\"] = data_customer_ac.values[:30]\n",
    "data_15_ac = data_15_ac.set_index(\"date\")\n",
    "df = data_15_ac\n",
    "df.head()"
   ]
  },
  {
   "cell_type": "code",
   "execution_count": 56,
   "metadata": {},
   "outputs": [],
   "source": [
    "X = df[['month','year', 'price','demand']];"
   ]
  },
  {
   "cell_type": "markdown",
   "metadata": {},
   "source": [
    "### Одной функцией"
   ]
  },
  {
   "cell_type": "code",
   "execution_count": 65,
   "metadata": {},
   "outputs": [],
   "source": [
    "def create_features(ira, sku, label=\"volume\"):\n",
    "    data_customer_ac = data_customer[data_customer[\"ira\"] == ira][[\"date\", \"amount_of_customers\"]].groupby(\"date\").sum()\n",
    "    data_15_ac = data_sales[(data_sales[\"sku_id\"] ==  sku) & (data_sales[\"ira\"] ==  ira)][[\"date\", \"month\", \"day\", \"year\", \"volume\", \"price\"]]\n",
    "    data_15_ac[\"demand\"] = data_customer_ac.values[:data_15_ac.shape[0]]\n",
    "    data_15_ac = data_15_ac.set_index(\"date\")\n",
    "    df = data_15_ac\n",
    "    \n",
    "    X = df[['month','year', 'price','demand']]\n",
    "    if label:\n",
    "        y = df[label]\n",
    "        return X, y\n",
    "    return X"
   ]
  },
  {
   "cell_type": "code",
   "execution_count": 519,
   "metadata": {},
   "outputs": [],
   "source": [
    "def get_demands(ira, sku):\n",
    "    data_customer_ac = data_customer[data_customer[\"ira\"] == ira][[\"date\", \"amount_of_customers\"]].groupby(\"date\").sum()\n",
    "    return data_customer_ac.values[-3:]"
   ]
  },
  {
   "cell_type": "code",
   "execution_count": 162,
   "metadata": {},
   "outputs": [],
   "source": [
    "X, y = create_features(\"AC\", \"sku #16\", \"volume\")"
   ]
  },
  {
   "cell_type": "markdown",
   "metadata": {},
   "source": [
    "### test train"
   ]
  },
  {
   "cell_type": "code",
   "execution_count": 767,
   "metadata": {},
   "outputs": [],
   "source": [
    "split_date = '2019-01-01'\n",
    "X_train = X.loc[X.index <= split_date].copy().values\n",
    "X_test = X.loc[X.index > split_date].copy().values\n",
    "y_train = y.loc[y.index <= split_date].copy().values\n",
    "y_test = y.loc[y.index > split_date].copy().values"
   ]
  },
  {
   "cell_type": "markdown",
   "metadata": {},
   "source": [
    "### create model"
   ]
  },
  {
   "cell_type": "code",
   "execution_count": 779,
   "metadata": {},
   "outputs": [
    {
     "data": {
      "text/plain": [
       "XGBRegressor(base_score=0.5, booster='gbtree', colsample_bylevel=0.5,\n",
       "       colsample_bynode=0.5, colsample_bytree=0.5, gamma=0,\n",
       "       importance_type='gain', learning_rate=0.01, max_delta_step=0,\n",
       "       max_depth=12, min_child_weight=1, missing=None, n_estimators=1000,\n",
       "       n_jobs=1, nthread=None, objective='reg:squarederror',\n",
       "       random_state=0, reg_alpha=0, reg_lambda=0, scale_pos_weight=1,\n",
       "       seed=None, silent=None, subsample=1, verbosity=1)"
      ]
     },
     "execution_count": 779,
     "metadata": {},
     "output_type": "execute_result"
    }
   ],
   "source": [
    "reg = xgb.XGBRegressor(n_estimators=1000, learning_rate=0.01, reg_lambda=0, max_depth=12, objective='reg:squarederror', colsample_bylevel=0.5,\n",
    "       colsample_bynode=0.5, colsample_bytree=0.5)\n",
    "reg.fit(X_train, y_train,\n",
    "        eval_set=[(X_train, y_train), (X_test, y_test)],\n",
    "        early_stopping_rounds=50, \n",
    "        verbose=False)"
   ]
  },
  {
   "cell_type": "markdown",
   "metadata": {},
   "source": [
    "### Значимость признаков"
   ]
  },
  {
   "cell_type": "code",
   "execution_count": 780,
   "metadata": {},
   "outputs": [
    {
     "data": {
      "image/png": "[encoded data removed]",
      "text/plain": [
       "<Figure size 504x288 with 1 Axes>"
      ]
     },
     "metadata": {
      "needs_background": "light"
     },
     "output_type": "display_data"
    }
   ],
   "source": [
    "_ = plot_importance(reg, height=0.9)"
   ]
  },
  {
   "cell_type": "code",
   "execution_count": 781,
   "metadata": {},
   "outputs": [
    {
     "data": {
      "image/png": "[encoded data removed]",
      "text/plain": [
       "<Figure size 504x288 with 1 Axes>"
      ]
     },
     "metadata": {
      "needs_background": "light"
     },
     "output_type": "display_data"
    }
   ],
   "source": [
    "plt.plot(reg.predict(X_train))\n",
    "plt.plot(y_train)\n",
    "plt.show()\n"
   ]
  },
  {
   "cell_type": "code",
   "execution_count": 782,
   "metadata": {},
   "outputs": [
    {
     "data": {
      "image/png": "[encoded data removed]",
      "text/plain": [
       "<Figure size 504x288 with 1 Axes>"
      ]
     },
     "metadata": {
      "needs_background": "light"
     },
     "output_type": "display_data"
    }
   ],
   "source": [
    "plt.plot(reg.predict(X_test))\n",
    "plt.plot(y_test)\n",
    "plt.show()\n"
   ]
  },
  {
   "cell_type": "code",
   "execution_count": null,
   "metadata": {},
   "outputs": [],
   "source": []
  },
  {
   "cell_type": "code",
   "execution_count": 776,
   "metadata": {},
   "outputs": [],
   "source": [
    "def metrics(x, y):\n",
    "    return mean_absolute_error(x, y) / (1/2*(np.mean(x) + np.mean(y)))"
   ]
  },
  {
   "cell_type": "code",
   "execution_count": 777,
   "metadata": {},
   "outputs": [],
   "source": [
    "# нужно настроить параметры бустера"
   ]
  },
  {
   "cell_type": "code",
   "execution_count": 778,
   "metadata": {},
   "outputs": [
    {
     "data": {
      "text/plain": [
       "0.4167487181441887"
      ]
     },
     "execution_count": 778,
     "metadata": {},
     "output_type": "execute_result"
    }
   ],
   "source": [
    "metrics(y_test, reg.predict(X_test))"
   ]
  },
  {
   "cell_type": "markdown",
   "metadata": {},
   "source": [
    "### Попробуем эту модель для других sku"
   ]
  },
  {
   "cell_type": "code",
   "execution_count": 485,
   "metadata": {},
   "outputs": [],
   "source": [
    "def get_metrics_value(ira, sku):\n",
    "    try:\n",
    "        \n",
    "        X, y = create_features(ira, sku, \"volume\")\n",
    "        X_train = X.loc[X.index <= split_date].copy().values\n",
    "        X_test = X.loc[X.index > split_date].copy().values\n",
    "        y_train = y.loc[y.index <= split_date].copy().values\n",
    "        y_test = y.loc[y.index > split_date].copy().values\n",
    "        reg.fit(X_train, y_train,\n",
    "            eval_set=[(X_train, y_train), (X_test, y_test)],\n",
    "            early_stopping_rounds=50, \n",
    "            verbose=False)\n",
    "        return metrics(y_test, reg.predict(X_test))\n",
    "    except:\n",
    "        return [\"Problems\", ira, sku]"
   ]
  },
  {
   "cell_type": "code",
   "execution_count": 823,
   "metadata": {},
   "outputs": [
    {
     "data": {
      "text/plain": [
       "0.23746424616121498"
      ]
     },
     "execution_count": 823,
     "metadata": {},
     "output_type": "execute_result"
    }
   ],
   "source": [
    "get_metrics_value(\"AC\", \"sku #15\")"
   ]
  },
  {
   "cell_type": "code",
   "execution_count": 828,
   "metadata": {},
   "outputs": [],
   "source": [
    "sku_arr = list(data_sales[\"sku_id\"].unique());\n",
    "ira_arr = list(data_sales[\"ira\"].unique());"
   ]
  },
  {
   "cell_type": "code",
   "execution_count": null,
   "metadata": {},
   "outputs": [],
   "source": []
  },
  {
   "cell_type": "code",
   "execution_count": 509,
   "metadata": {},
   "outputs": [],
   "source": [
    "out = []\n",
    "for ira in ira_arr:\n",
    "    for sku in sku_arr:\n",
    "        out.append(get_metrics_value(ira, sku))"
   ]
  },
  {
   "cell_type": "markdown",
   "metadata": {},
   "source": [
    "### Средняя ошибка для всех рядов, которые прогнозируются этой моделью"
   ]
  },
  {
   "cell_type": "code",
   "execution_count": 477,
   "metadata": {},
   "outputs": [
    {
     "data": {
      "text/plain": [
       "0.31544235430130674"
      ]
     },
     "execution_count": 477,
     "metadata": {},
     "output_type": "execute_result"
    }
   ],
   "source": [
    "np.mean(list(filter(lambda x: type(x) != list, out)))"
   ]
  },
  {
   "cell_type": "markdown",
   "metadata": {},
   "source": [
    "### Будем записывать результаты"
   ]
  },
  {
   "cell_type": "code",
   "execution_count": 827,
   "metadata": {},
   "outputs": [
    {
     "data": {
      "text/html": [
       "<div>\n",
       "<style scoped>\n",
       "    .dataframe tbody tr th:only-of-type {\n",
       "        vertical-align: middle;\n",
       "    }\n",
       "\n",
       "    .dataframe tbody tr th {\n",
       "        vertical-align: top;\n",
       "    }\n",
       "\n",
       "    .dataframe thead th {\n",
       "        text-align: right;\n",
       "    }\n",
       "</style>\n",
       "<table border=\"1\" class=\"dataframe\">\n",
       "  <thead>\n",
       "    <tr style=\"text-align: right;\">\n",
       "      <th></th>\n",
       "      <th>year</th>\n",
       "      <th>month</th>\n",
       "      <th>ira</th>\n",
       "      <th>sku_id</th>\n",
       "      <th>volume</th>\n",
       "    </tr>\n",
       "  </thead>\n",
       "  <tbody>\n",
       "  </tbody>\n",
       "</table>\n",
       "</div>"
      ],
      "text/plain": [
       "Empty DataFrame\n",
       "Columns: [year, month, ira, sku_id, volume]\n",
       "Index: []"
      ]
     },
     "execution_count": 827,
     "metadata": {},
     "output_type": "execute_result"
    }
   ],
   "source": [
    "df_res = pd.DataFrame(columns=['year', 'month', 'ira', \"sku_id\", \"volume\"])\n",
    "df_res"
   ]
  },
  {
   "cell_type": "markdown",
   "metadata": {},
   "source": [
    "### Получаем прогноз"
   ]
  },
  {
   "cell_type": "code",
   "execution_count": 783,
   "metadata": {},
   "outputs": [],
   "source": [
    "def get_forecast(ira, sku):\n",
    "    X_train, y_train = create_features(ira, sku, \"volume\")\n",
    "    demands = get_demands(ira, sku)\n",
    "    X_train = X_train.values\n",
    "    y_train = y_train.values\n",
    "    X_test = [[i+7, 2019, X_train[-1][2], demands[i, 0]] for i in range(3)]\n",
    "    X_test = np.array(X_test)\n",
    "    out_list = []\n",
    "    for i in range(3):\n",
    "        reg.fit(X_train, y_train, eval_set=[(X_train, y_train)], early_stopping_rounds=50, verbose=False)\n",
    "        y_new = reg.predict([X_test[i]])[0]\n",
    "        out_list.append(y_new)\n",
    "        X_train = np.concatenate((X_train, np.array([X_test[i]])))\n",
    "        y_train = np.concatenate((y_train, np.array([y_new])))\n",
    "    return out_list\n",
    "        \n",
    "    "
   ]
  },
  {
   "cell_type": "code",
   "execution_count": 784,
   "metadata": {},
   "outputs": [
    {
     "data": {
      "text/plain": [
       "[8986.224, 9034.359, 8255.545]"
      ]
     },
     "execution_count": 784,
     "metadata": {},
     "output_type": "execute_result"
    }
   ],
   "source": [
    "get_forecast(\"AC\", \"sku #16\")"
   ]
  },
  {
   "cell_type": "code",
   "execution_count": 829,
   "metadata": {},
   "outputs": [
    {
     "name": "stdout",
     "output_type": "stream",
     "text": [
      "AC sku #79 0.12996029247334223\n",
      "AC sku #16 0.08469337051357706\n",
      "AC sku #28 0.09084702317399762\n",
      "AC sku #31 0.7611646316015297\n",
      "AC sku #38 0.09573024724693882\n",
      "AC sku #46 0.30065939518934487\n",
      "AC sku #49 0.03368947585648988\n",
      "AC sku #67 0.7567835110911205\n",
      "AC sku #73 0.15841428403450578\n",
      "AC sku #34 ['Problems', 'AC', 'sku #34']\n",
      "AC sku #37 ['Problems', 'AC', 'sku #37']\n",
      "AC sku #27 ['Problems', 'AC', 'sku #27']\n",
      "AC sku #43 ['Problems', 'AC', 'sku #43']\n",
      "AC sku #44 ['Problems', 'AC', 'sku #44']\n",
      "AC sku #72 ['Problems', 'AC', 'sku #72']\n",
      "AC sku #81 ['Problems', 'AC', 'sku #81']\n",
      "AC sku #82 ['Problems', 'AC', 'sku #82']\n",
      "AC sku #83 ['Problems', 'AC', 'sku #83']\n",
      "AC sku #84 ['Problems', 'AC', 'sku #84']\n",
      "AC sku #7 ['Problems', 'AC', 'sku #7']\n",
      "AC sku #11 ['Problems', 'AC', 'sku #11']\n",
      "AC sku #17 ['Problems', 'AC', 'sku #17']\n",
      "AC sku #3 ['Problems', 'AC', 'sku #3']\n",
      "AC sku #5 ['Problems', 'AC', 'sku #5']\n",
      "AC sku #94 0.41535081802252727\n",
      "AC sku #76 0.2986722219171563\n",
      "AC sku #97 0.34927150422946956\n",
      "AC sku #55 ['Problems', 'AC', 'sku #55']\n",
      "AC sku #98 ['Problems', 'AC', 'sku #98']\n",
      "AC sku #60 ['Problems', 'AC', 'sku #60']\n",
      "AC sku #105 ['Problems', 'AC', 'sku #105']\n",
      "MN sku #15 ['Problems', 'MN', 'sku #15']\n",
      "MN sku #22 0.2846747315227359\n",
      "MN sku #33 ['Problems', 'MN', 'sku #33']\n",
      "MN sku #41 0.3410395109070294\n",
      "MN sku #42 ['Problems', 'MN', 'sku #42']\n",
      "MN sku #25 0.7327431084411498\n",
      "MN sku #34 ['Problems', 'MN', 'sku #34']\n",
      "MN sku #37 ['Problems', 'MN', 'sku #37']\n",
      "MN sku #27 ['Problems', 'MN', 'sku #27']\n",
      "MN sku #43 ['Problems', 'MN', 'sku #43']\n",
      "MN sku #44 ['Problems', 'MN', 'sku #44']\n",
      "MN sku #72 ['Problems', 'MN', 'sku #72']\n",
      "MN sku #81 ['Problems', 'MN', 'sku #81']\n",
      "MN sku #82 ['Problems', 'MN', 'sku #82']\n",
      "MN sku #83 ['Problems', 'MN', 'sku #83']\n",
      "MN sku #84 ['Problems', 'MN', 'sku #84']\n",
      "MN sku #7 ['Problems', 'MN', 'sku #7']\n",
      "MN sku #11 ['Problems', 'MN', 'sku #11']\n",
      "MN sku #17 ['Problems', 'MN', 'sku #17']\n",
      "MN sku #3 ['Problems', 'MN', 'sku #3']\n",
      "MN sku #5 ['Problems', 'MN', 'sku #5']\n",
      "MN sku #106 ['Problems', 'MN', 'sku #106']\n",
      "MN sku #77 0.4741474773854274\n",
      "MN sku #55 ['Problems', 'MN', 'sku #55']\n",
      "MN sku #98 ['Problems', 'MN', 'sku #98']\n",
      "MN sku #60 ['Problems', 'MN', 'sku #60']\n",
      "MN sku #105 ['Problems', 'MN', 'sku #105']\n",
      "PB sku #15 0.49712368933129303\n",
      "PB sku #33 ['Problems', 'PB', 'sku #33']\n",
      "PB sku #48 0.06631266223699969\n",
      "PB sku #78 0.29605102805545674\n",
      "PB sku #37 ['Problems', 'PB', 'sku #37']\n",
      "PB sku #27 ['Problems', 'PB', 'sku #27']\n",
      "PB sku #43 ['Problems', 'PB', 'sku #43']\n",
      "PB sku #44 ['Problems', 'PB', 'sku #44']\n",
      "PB sku #72 ['Problems', 'PB', 'sku #72']\n",
      "PB sku #81 ['Problems', 'PB', 'sku #81']\n",
      "PB sku #82 ['Problems', 'PB', 'sku #82']\n",
      "PB sku #83 ['Problems', 'PB', 'sku #83']\n",
      "PB sku #84 ['Problems', 'PB', 'sku #84']\n",
      "PB sku #7 ['Problems', 'PB', 'sku #7']\n",
      "PB sku #11 ['Problems', 'PB', 'sku #11']\n",
      "PB sku #17 ['Problems', 'PB', 'sku #17']\n",
      "PB sku #3 ['Problems', 'PB', 'sku #3']\n",
      "PB sku #5 ['Problems', 'PB', 'sku #5']\n",
      "PB sku #106 0.14240086443417704\n",
      "PB sku #55 ['Problems', 'PB', 'sku #55']\n",
      "PB sku #98 ['Problems', 'PB', 'sku #98']\n",
      "PB sku #60 ['Problems', 'PB', 'sku #60']\n",
      "PB sku #105 0.44383070448370815\n",
      "VL sku #30 ['Problems', 'VL', 'sku #30']\n",
      "VL sku #33 ['Problems', 'VL', 'sku #33']\n",
      "VL sku #42 ['Problems', 'VL', 'sku #42']\n",
      "VL sku #34 ['Problems', 'VL', 'sku #34']\n",
      "VL sku #37 ['Problems', 'VL', 'sku #37']\n",
      "VL sku #27 ['Problems', 'VL', 'sku #27']\n",
      "VL sku #43 ['Problems', 'VL', 'sku #43']\n",
      "VL sku #44 ['Problems', 'VL', 'sku #44']\n",
      "VL sku #72 ['Problems', 'VL', 'sku #72']\n",
      "VL sku #81 ['Problems', 'VL', 'sku #81']\n",
      "VL sku #82 ['Problems', 'VL', 'sku #82']\n",
      "VL sku #83 ['Problems', 'VL', 'sku #83']\n",
      "VL sku #84 ['Problems', 'VL', 'sku #84']\n",
      "VL sku #7 ['Problems', 'VL', 'sku #7']\n",
      "VL sku #11 ['Problems', 'VL', 'sku #11']\n",
      "VL sku #17 ['Problems', 'VL', 'sku #17']\n",
      "VL sku #3 ['Problems', 'VL', 'sku #3']\n",
      "VL sku #5 ['Problems', 'VL', 'sku #5']\n",
      "VL sku #100 ['Problems', 'VL', 'sku #100']\n",
      "VL sku #55 ['Problems', 'VL', 'sku #55']\n",
      "VL sku #98 ['Problems', 'VL', 'sku #98']\n",
      "VL sku #60 ['Problems', 'VL', 'sku #60']\n"
     ]
    }
   ],
   "source": [
    "out = []\n",
    "for ira in ira_arr:\n",
    "    for sku in sku_arr:\n",
    "        m = get_metrics_value(ira, sku)\n",
    "        print(ira, sku, m)\n",
    "        if type(m) != list:\n",
    "            forecast = get_forecast(ira, sku)\n",
    "            df_curr = pd.DataFrame([[2019, 7, ira, sku, forecast[0]],\n",
    "                                    [2019, 8, ira, sku, forecast[1]],\n",
    "                                    [2019, 9, ira, sku, forecast[2]]], \n",
    "                                   columns=['year', 'month', 'ira', \"sku_id\", \"volume\"])\n",
    "            df_res = df_res.append(df_curr)\n",
    "            ind = sku_arr.index(sku)\n",
    "            del sku_arr[ind] "
   ]
  },
  {
   "cell_type": "code",
   "execution_count": 832,
   "metadata": {},
   "outputs": [
    {
     "data": {
      "text/plain": [
       "(63, 5)"
      ]
     },
     "execution_count": 832,
     "metadata": {},
     "output_type": "execute_result"
    }
   ],
   "source": [
    "df_res.shape"
   ]
  },
  {
   "cell_type": "markdown",
   "metadata": {},
   "source": [
    "### Отдельно для Village,  так как там нет данных по спросу"
   ]
  },
  {
   "cell_type": "code",
   "execution_count": 834,
   "metadata": {},
   "outputs": [],
   "source": [
    "def create_features_vl(ira, sku, label=\"volume\"):\n",
    "    data_customer_ac = data_customer[data_customer[\"ira\"] == ira][[\"date\", \"amount_of_customers\"]].groupby(\"date\").sum()\n",
    "    data_15_ac = data_sales[(data_sales[\"sku_id\"] ==  sku) & (data_sales[\"ira\"] ==  ira)][[\"date\", \"month\", \"day\", \"year\", \"volume\", \"price\"]]\n",
    "    data_15_ac = data_15_ac.set_index(\"date\")\n",
    "    df = data_15_ac\n",
    "    X = df[['month','year', 'price']]\n",
    "    if label:\n",
    "        y = df[label]\n",
    "        return X, y\n",
    "    return X"
   ]
  },
  {
   "cell_type": "code",
   "execution_count": 838,
   "metadata": {},
   "outputs": [],
   "source": [
    "def get_metrics_value_vl(ira, sku):\n",
    "    try:    \n",
    "        X, y = create_features_vl(ira, sku, \"volume\")\n",
    "        X_train = X.loc[X.index <= split_date].copy().values\n",
    "        X_test = X.loc[X.index > split_date].copy().values\n",
    "        y_train = y.loc[y.index <= split_date].copy().values\n",
    "        y_test = y.loc[y.index > split_date].copy().values\n",
    "        reg.fit(X_train, y_train,\n",
    "            eval_set=[(X_train, y_train), (X_test, y_test)],\n",
    "            early_stopping_rounds=50, \n",
    "            verbose=False)\n",
    "        return metrics(y_test, reg.predict(X_test))\n",
    "    except:\n",
    "        return [\"Problems\", ira, sku]"
   ]
  },
  {
   "cell_type": "code",
   "execution_count": 836,
   "metadata": {},
   "outputs": [],
   "source": [
    "def get_forecast_vl(ira, sku):\n",
    "    X_train, y_train = create_features_vl(ira, sku, \"volume\")\n",
    "    X_train = X_train.values\n",
    "    y_train = y_train.values\n",
    "    X_test = [[i+7, 2019, X_train[-1][2]] for i in range(3)]\n",
    "    X_test = np.array(X_test)\n",
    "    out_list = []\n",
    "    for i in range(3):\n",
    "        reg.fit(X_train, y_train, eval_set=[(X_train, y_train)], early_stopping_rounds=50, verbose=False)\n",
    "        y_new = reg.predict([X_test[i]])[0]\n",
    "        out_list.append(y_new)\n",
    "        X_train = np.concatenate((X_train, np.array([X_test[i]])))\n",
    "        y_train = np.concatenate((y_train, np.array([y_new])))\n",
    "    return out_list"
   ]
  },
  {
   "cell_type": "code",
   "execution_count": 840,
   "metadata": {},
   "outputs": [
    {
     "name": "stdout",
     "output_type": "stream",
     "text": [
      "VL sku #79 ['Problems', 'VL', 'sku #79']\n",
      "VL sku #15 ['Problems', 'VL', 'sku #15']\n",
      "VL sku #16 ['Problems', 'VL', 'sku #16']\n",
      "VL sku #22 ['Problems', 'VL', 'sku #22']\n",
      "VL sku #28 ['Problems', 'VL', 'sku #28']\n",
      "VL sku #30 0.06632905730985976\n",
      "VL sku #31 ['Problems', 'VL', 'sku #31']\n",
      "VL sku #33 ['Problems', 'VL', 'sku #33']\n",
      "VL sku #38 ['Problems', 'VL', 'sku #38']\n",
      "VL sku #41 ['Problems', 'VL', 'sku #41']\n",
      "VL sku #46 0.15123682550006537\n",
      "VL sku #48 ['Problems', 'VL', 'sku #48']\n",
      "VL sku #49 ['Problems', 'VL', 'sku #49']\n",
      "VL sku #42 ['Problems', 'VL', 'sku #42']\n",
      "VL sku #67 ['Problems', 'VL', 'sku #67']\n",
      "VL sku #25 0.13850717424142564\n",
      "VL sku #73 0.0906139119822573\n",
      "VL sku #78 ['Problems', 'VL', 'sku #78']\n",
      "VL sku #34 ['Problems', 'VL', 'sku #34']\n",
      "VL sku #37 ['Problems', 'VL', 'sku #37']\n",
      "VL sku #27 ['Problems', 'VL', 'sku #27']\n",
      "VL sku #43 ['Problems', 'VL', 'sku #43']\n",
      "VL sku #44 ['Problems', 'VL', 'sku #44']\n",
      "VL sku #72 ['Problems', 'VL', 'sku #72']\n",
      "VL sku #81 ['Problems', 'VL', 'sku #81']\n",
      "VL sku #82 ['Problems', 'VL', 'sku #82']\n",
      "VL sku #83 ['Problems', 'VL', 'sku #83']\n",
      "VL sku #84 ['Problems', 'VL', 'sku #84']\n",
      "VL sku #7 ['Problems', 'VL', 'sku #7']\n",
      "VL sku #11 ['Problems', 'VL', 'sku #11']\n",
      "VL sku #17 ['Problems', 'VL', 'sku #17']\n",
      "VL sku #3 ['Problems', 'VL', 'sku #3']\n",
      "VL sku #5 ['Problems', 'VL', 'sku #5']\n",
      "VL sku #94 ['Problems', 'VL', 'sku #94']\n",
      "VL sku #106 ['Problems', 'VL', 'sku #106']\n",
      "VL sku #76 ['Problems', 'VL', 'sku #76']\n",
      "VL sku #77 ['Problems', 'VL', 'sku #77']\n",
      "VL sku #97 ['Problems', 'VL', 'sku #97']\n",
      "VL sku #100 ['Problems', 'VL', 'sku #100']\n",
      "VL sku #55 ['Problems', 'VL', 'sku #55']\n",
      "VL sku #98 ['Problems', 'VL', 'sku #98']\n",
      "VL sku #60 ['Problems', 'VL', 'sku #60']\n",
      "VL sku #105 ['Problems', 'VL', 'sku #105']\n"
     ]
    }
   ],
   "source": [
    "for sku in list(data_sales[\"sku_id\"].unique()):\n",
    "    m = get_metrics_value_vl(\"VL\", sku)\n",
    "    print(ira, sku, m)\n",
    "    if type(m) != list:\n",
    "        forecast = get_forecast_vl(\"VL\", sku)\n",
    "        df_curr = pd.DataFrame([[2019, 7, ira, sku, forecast[0]],\n",
    "                                [2019, 8, ira, sku, forecast[1]],\n",
    "                                [2019, 9, ira, sku, forecast[2]]], \n",
    "                                columns=['year', 'month', 'ira', \"sku_id\", \"volume\"])\n",
    "        df_res = df_res.append(df_curr)"
   ]
  },
  {
   "cell_type": "code",
   "execution_count": 848,
   "metadata": {},
   "outputs": [],
   "source": [
    "df_res.to_csv('solution.tsv',sep='\\t')"
   ]
  },
  {
   "cell_type": "code",
   "execution_count": null,
   "metadata": {},
   "outputs": [],
   "source": []
  },
  {
   "cell_type": "markdown",
   "metadata": {},
   "source": [
    "# <center> Оптимальная цена"
   ]
  },
  {
   "cell_type": "markdown",
   "metadata": {},
   "source": [
    "### Рассмотрим какой-нибудь товар"
   ]
  },
  {
   "cell_type": "code",
   "execution_count": 794,
   "metadata": {},
   "outputs": [],
   "source": [
    "ira = \"AC\"\n",
    "sku = \"sku #22\"\n",
    "X_train, y_train = create_features(ira, sku, \"volume\")"
   ]
  },
  {
   "cell_type": "code",
   "execution_count": 803,
   "metadata": {},
   "outputs": [],
   "source": [
    "price = X_train.values[-1][2]"
   ]
  },
  {
   "cell_type": "code",
   "execution_count": 807,
   "metadata": {},
   "outputs": [],
   "source": [
    "prices = [price - i / 10 for i in range(50, 1, -1)] + [price + i/10 for i in range(1, 50, 1)]"
   ]
  },
  {
   "cell_type": "code",
   "execution_count": 809,
   "metadata": {},
   "outputs": [],
   "source": [
    "prices;"
   ]
  },
  {
   "cell_type": "code",
   "execution_count": 810,
   "metadata": {},
   "outputs": [],
   "source": [
    "def get_forecast1(ira, sku, price):\n",
    "    X_train, y_train = create_features(ira, sku, \"volume\")\n",
    "    demands = get_demands(ira, sku)\n",
    "    X_train = X_train.values\n",
    "    y_train = y_train.values\n",
    "    X_test = [[i+7, 2019, price, demands[i, 0]] for i in range(3)]\n",
    "    X_test = np.array(X_test)\n",
    "    out_list = []\n",
    "    for i in range(3):\n",
    "        reg.fit(X_train, y_train, eval_set=[(X_train, y_train)], early_stopping_rounds=50, verbose=False)\n",
    "        y_new = reg.predict([X_test[i]])[0]\n",
    "        out_list.append(y_new)\n",
    "        X_train = np.concatenate((X_train, np.array([X_test[i]])))\n",
    "        y_train = np.concatenate((y_train, np.array([y_new])))\n",
    "    return out_list\n",
    "        "
   ]
  },
  {
   "cell_type": "code",
   "execution_count": 816,
   "metadata": {},
   "outputs": [],
   "source": [
    "s = 0\n",
    "p = price\n",
    "for i in prices:\n",
    "    f = get_forecast1(ira, sku, i)\n",
    "    if sum(f) > s:\n",
    "        s = sum(f)\n",
    "        p = i"
   ]
  },
  {
   "cell_type": "code",
   "execution_count": 817,
   "metadata": {},
   "outputs": [
    {
     "data": {
      "text/plain": [
       "6"
      ]
     },
     "execution_count": 817,
     "metadata": {},
     "output_type": "execute_result"
    }
   ],
   "source": [
    "sum([1,2,3])"
   ]
  },
  {
   "cell_type": "code",
   "execution_count": 818,
   "metadata": {},
   "outputs": [
    {
     "data": {
      "text/plain": [
       "2.112236710130382"
      ]
     },
     "execution_count": 818,
     "metadata": {},
     "output_type": "execute_result"
    }
   ],
   "source": [
    "p"
   ]
  },
  {
   "cell_type": "code",
   "execution_count": null,
   "metadata": {},
   "outputs": [],
   "source": []
  },
  {
   "cell_type": "code",
   "execution_count": null,
   "metadata": {},
   "outputs": [],
   "source": []
  }
 ],
 "metadata": {
  "kernelspec": {
   "display_name": "Python 3",
   "language": "python",
   "name": "python3"
  },
  "language_info": {
   "codemirror_mode": {
    "name": "ipython",
    "version": 3
   },
   "file_extension": ".py",
   "mimetype": "text/x-python",
   "name": "python",
   "nbconvert_exporter": "python",
   "pygments_lexer": "ipython3",
   "version": "3.5.2"
  }
 },
 "nbformat": 4,
 "nbformat_minor": 2
}
